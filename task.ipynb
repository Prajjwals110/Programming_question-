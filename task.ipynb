{
 "cells": [
  {
   "cell_type": "markdown",
   "id": "3ac1ba26",
   "metadata": {},
   "source": [
    "### <h1> Programming Questions </h1>\n",
    "####  1. Write a function to convert a decimal number string into binary string. For example , string A contains “123” which is decimal value 123. Convert this string into binary string.\n"
   ]
  },
  {
   "cell_type": "code",
   "execution_count": 2,
   "id": "71b78ec5",
   "metadata": {},
   "outputs": [
    {
     "name": "stdout",
     "output_type": "stream",
     "text": [
      "234\n",
      "1110101\n"
     ]
    }
   ],
   "source": [
    "def Binary(str):\n",
    "    n=0\n",
    "    for i in str:\n",
    "        x=ord(i)-ord('0')\n",
    "        n=n*10+x\n",
    "\n",
    "    bi_ulta=0\n",
    "\n",
    "    while(n>0):\n",
    "        temp=n%2\n",
    "        n=n//2\n",
    "        bi_ulta=bi_ulta*10 + temp\n",
    "\n",
    "    bi_s=\"\"\n",
    "    \n",
    "    while(bi_ulta>0):\n",
    "        t10 = bi_ulta%10\n",
    "        bi_s = bi_s + chr(t10+ord('0'))\n",
    "        bi_ulta=bi_ulta//10\n",
    "    \n",
    "    return bi_s\n",
    "    \n",
    "x=input()\n",
    "print(Binary(x))"
   ]
  },
  {
   "cell_type": "markdown",
   "id": "97c751f7",
   "metadata": {},
   "source": [
    "#### 2. Write a program to read a CSV file and print the same in the output file. This csv file contains three columns having numeric value. The output file should additionally contain the sum of these numeric values."
   ]
  },
  {
   "cell_type": "code",
   "execution_count": 42,
   "id": "e7629ba1",
   "metadata": {},
   "outputs": [
    {
     "name": "stdout",
     "output_type": "stream",
     "text": [
      "   Column 1  Column 2   Colum 3 \n",
      "0        11         22        33\n",
      "1        11         22        33\n",
      "2        11         22        33\n",
      "3        11         22        33\n",
      "4        11         22        33\n",
      "5        11         22        33\n",
      "6        11         22        33\n",
      "7        11         22        33\n",
      "8        11         22        33\n",
      "9        11         22        33\n"
     ]
    }
   ],
   "source": [
    "import pandas as pd\n",
    "\n",
    "df = pd.read_csv(\"addcol.csv\")\n",
    "print(df)\n"
   ]
  },
  {
   "cell_type": "code",
   "execution_count": null,
   "id": "d2f40693",
   "metadata": {},
   "outputs": [],
   "source": [
    "sum_column = df[\"Column 1\"] + df[\"Column 2\"] + df[\"Colum 3\"]\n",
    "df['Column 4'] = sum_column\n",
    "print(df)"
   ]
  },
  {
   "cell_type": "markdown",
   "id": "44efd20d",
   "metadata": {},
   "source": [
    "<h4>3. Write a program to read value from the DB. <br>\n",
    " The SB scheme is as follows: <br>\n",
    " a. Username: root <br>\n",
    " b. Password: root <br>\n",
    " c. Table name: test <br>\n",
    " d. Schema <br>\n",
    "         i. Emp name varchar 200 <br>\n",
    "         ii. Emp age int 10 </h4>"
   ]
  },
  {
   "cell_type": "code",
   "execution_count": null,
   "id": "2b3669c2",
   "metadata": {},
   "outputs": [],
   "source": [
    "import MySQLdb\n",
    "\n",
    "database = \"TestDataBase\"\n",
    "username = 'root'\n",
    "password = 'root'\n",
    "\n",
    "# Open database connection\n",
    "db = MySQLdb.connect(host='localhost', user=username, passwd=password, db=database )\n",
    "\n",
    "# prepare a cursor object using cursor() method\n",
    "cursor = db.cursor()\n",
    "\n",
    "sql = \"SELECT * FROM test\"\n",
    "(\n",
    "try:\n",
    "   cursor.execute(sql)\n",
    "   results = cursor.fetchall()\n",
    "   for row in results:\n",
    "      name = row[1]\n",
    "      age  = row[2]\n",
    "      print \"Name: %s, Age: %d\"%  (id, name, age, sex)\n",
    "\n",
    "   print \"\\n\"\n",
    "except:\n",
    "   print \"Error: unable to fecth data\" )\n",
    "\n",
    "db.close()"
   ]
  },
  {
   "cell_type": "markdown",
   "id": "b49cfb6e",
   "metadata": {},
   "source": [
    "#### 4. Write a program to call a HTTP url and print the output a. \n",
    "######     URL is http://127.0.0.1:8999/test?value=p"
   ]
  },
  {
   "cell_type": "code",
   "execution_count": null,
   "id": "6060af06",
   "metadata": {},
   "outputs": [],
   "source": [
    "from http.client import HTTPConnection\n",
    "conn = HTTPConnection(\"http://127.0.0.1:8999/test?value=p\")\n",
    "conn.request(\"GET\", \"/\")  \n",
    "result = conn.getresponse()\n",
    "# retrieves the entire contents.  \n",
    "contents = result.read() \n",
    "print(contents)"
   ]
  },
  {
   "cell_type": "markdown",
   "id": "8e6fa162",
   "metadata": {},
   "source": [
    "<h4>Write a program to store the value in Hashmap (key, store) and then search those given value from the hashmap and print it. <br>\n",
    "a. Name is key and age is value so store some sample values like <br>\n",
    "i. (Ram, 36), (shyam,60)</h4>"
   ]
  },
  {
   "cell_type": "code",
   "execution_count": 7,
   "id": "753c5677",
   "metadata": {},
   "outputs": [
    {
     "name": "stdout",
     "output_type": "stream",
     "text": [
      "Enter Name: Ram\n",
      "Enter Age: 36\n",
      "Want to enter more name(Y/N): Y\n",
      "Enter Name: shyam\n",
      "Enter Age: 60\n",
      "Want to enter more name(Y/N): Ram\n",
      "Present Hash is like  {'Ram': 36, 'shyam': 60}\n",
      "Enter name whose age needs to be checked: shyam\n",
      "Age of  shyam  is  60\n"
     ]
    }
   ],
   "source": [
    "Res='Y'\n",
    "\n",
    "Hash = {}\n",
    "\n",
    "while Res=='Y':\n",
    "    name=input(\"Enter Name: \")\n",
    "    age=int(input(\"Enter Age: \"))\n",
    "    Hash[name]=age\n",
    "    Res=input(\"Want to enter more name(Y/N): \")\n",
    "    \n",
    "print(\"Present Hash is like \", Hash)\n",
    "\n",
    "Res=input(\"Enter name whose age needs to be checked: \")\n",
    "\n",
    "try:\n",
    "    print(\"Age of \",Res,\" is \",Hash[Res])\n",
    "except:\n",
    "    print(\"The name you entered doesn't exist in Hashmap\")"
   ]
  },
  {
   "cell_type": "markdown",
   "id": "dc992cb4",
   "metadata": {},
   "source": [
    "#### 6. Write a HTTP server program that take the print the received value read from the DB as per Q3."
   ]
  },
  {
   "cell_type": "markdown",
   "id": "811ff12a",
   "metadata": {},
   "source": [
    "--"
   ]
  },
  {
   "cell_type": "markdown",
   "id": "d887c802",
   "metadata": {},
   "source": [
    "#### 7. Write a program that take the command line input and print all received inputs."
   ]
  },
  {
   "cell_type": "code",
   "execution_count": 9,
   "id": "14fa24ac",
   "metadata": {},
   "outputs": [
    {
     "name": "stdout",
     "output_type": "stream",
     "text": [
      "Total arguments passed: 2\n",
      "\n",
      "Name of Python script: C:\\Users\\asus\\anaconda3\\lib\\site-packages\\ipykernel_launcher.py\n",
      "\n",
      "Arguments passed: -f C:\\Users\\asus\\AppData\\Roaming\\jupyter\\runtime\\kernel-779b1884-2dc0-46b9-a596-3058eb9ad4bc.json "
     ]
    }
   ],
   "source": [
    "import sys\n",
    " \n",
    "n = len(sys.argv) - 1\n",
    "print(\"Total arguments passed:\", n)\n",
    " \n",
    "print(\"\\nName of Python script:\", sys.argv[0])\n",
    " \n",
    "print(\"\\nArguments passed:\", end = \" \")\n",
    "for i in range(1, n+1):\n",
    "    print(sys.argv[i], end = \" \")"
   ]
  },
  {
   "cell_type": "markdown",
   "id": "07d0c95c",
   "metadata": {},
   "source": [
    "#### 8. Write a SQL query to find the age is less than 30 and name start with S."
   ]
  },
  {
   "cell_type": "markdown",
   "id": "09cfcd8f",
   "metadata": {},
   "source": [
    "SQL QUERY : SELECT * FROM peoples where Name like 'S%' and Age<30"
   ]
  },
  {
   "cell_type": "markdown",
   "id": "84104e0b",
   "metadata": {},
   "source": [
    "#### 9. Design a nice front-end page that take user name and password and as input and validate allow the user to be authenticated and if user credential is ok, then print success else failure."
   ]
  },
  {
   "attachments": {},
   "cell_type": "markdown",
   "id": "d15d6a3e",
   "metadata": {},
   "source": [
    "Code for login page attached in zip file. "
   ]
  }
 ],
 "metadata": {
  "kernelspec": {
   "display_name": "Python 3 (ipykernel)",
   "language": "python",
   "name": "python3"
  },
  "language_info": {
   "codemirror_mode": {
    "name": "ipython",
    "version": 3
   },
   "file_extension": ".py",
   "mimetype": "text/x-python",
   "name": "python",
   "nbconvert_exporter": "python",
   "pygments_lexer": "ipython3",
   "version": "3.9.12"
  }
 },
 "nbformat": 4,
 "nbformat_minor": 5
}
